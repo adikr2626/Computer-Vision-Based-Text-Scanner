{
 "cells": [
  {
   "cell_type": "code",
   "execution_count": 1,
   "metadata": {},
   "outputs": [],
   "source": [
    "import cv2 as cv\n",
    "import numpy as np\n",
    "from matplotlib import pyplot as plt\n",
    "import pytesseract as pyt\n",
    "from tkinter.filedialog import askopenfilename"
   ]
  },
  {
   "cell_type": "code",
   "execution_count": 2,
   "metadata": {},
   "outputs": [],
   "source": [
    "#Open file and read file name\n",
    "filename = askopenfilename()\n",
    "\n",
    "#read image\n",
    "img = cv.imread(filename)\n",
    "#make a copy of image array\n",
    "image_copy = np.copy(img)"
   ]
  },
  {
   "cell_type": "code",
   "execution_count": 3,
   "metadata": {},
   "outputs": [
    {
     "data": {
      "text/plain": [
       "-1"
      ]
     },
     "execution_count": 3,
     "metadata": {},
     "output_type": "execute_result"
    }
   ],
   "source": [
    "#Find contour of the image\n",
    "gray = cv.cvtColor(img,cv.COLOR_BGR2GRAY)\n",
    "smooth = cv.GaussianBlur(gray, (5,5), 0)\n",
    "thresh = cv.Canny(smooth, 100, 300)\n",
    "#findinfg contour using cv.findContours function\n",
    "contours, heirarchy = cv.findContours(thresh, cv.RETR_TREE, cv.CHAIN_APPROX_NONE)\n",
    "if( len(contours) != 0 ):\n",
    "    area = [ cv.contourArea(c) for c in contours ]\n",
    "    max_index = np.argmax(area)\n",
    "    cnt = contours[max_index]\n",
    "    \n",
    "epsilon = 0.05*cv.arcLength(cnt, True)\n",
    "approx = cv.approxPolyDP(cnt, epsilon, True)\n",
    "#Draw contours\n",
    "cv.drawContours(image_copy, [approx], -1, (255,0,0), 3)\n",
    "cv.waitKey(1000)"
   ]
  },
  {
   "cell_type": "code",
   "execution_count": 4,
   "metadata": {},
   "outputs": [],
   "source": [
    "#Perspective Transformation\n",
    "src_points = np.float32([approx[0,0],approx[1,0],approx[2,0],approx[3,0]])\n",
    "dst_points = np.float32([[500,300],[500,0],[0,0],[0,300]])\n",
    "#Transformation Matrix\n",
    "M = cv.getPerspectiveTransform(src_points, dst_points)\n",
    "#Unwrap\n",
    "warped = cv.warpPerspective(img, M, (500,300))\n",
    "cv.waitKey(1000)\n",
    "cv.imshow('Matrix',M)"
   ]
  },
  {
   "cell_type": "code",
   "execution_count": 5,
   "metadata": {},
   "outputs": [],
   "source": [
    "#Preproessing\n",
    "resize = cv.resize(warped, None, fx=3, fy=3, interpolation = cv.INTER_CUBIC)\n",
    "\n",
    "gray_warped = cv.cvtColor(resize,cv.COLOR_BGR2GRAY)\n",
    "\n",
    "ret, thresh_warped = cv.threshold(gray_warped, 150,255,cv.THRESH_BINARY_INV)"
   ]
  },
  {
   "cell_type": "code",
   "execution_count": 6,
   "metadata": {},
   "outputs": [
    {
     "name": "stdout",
     "output_type": "stream",
     "text": [
      "Skyfi Labs\n",
      "\n",
      "Learning by building projects mace\n",
      "super easy!\n"
     ]
    }
   ],
   "source": [
    "#Printing the text\n",
    "text =pyt.image_to_string(thresh_warped)\n",
    "\n",
    "print(text)"
   ]
  },
  {
   "cell_type": "code",
   "execution_count": null,
   "metadata": {},
   "outputs": [],
   "source": []
  }
 ],
 "metadata": {
  "kernelspec": {
   "display_name": "Python 3",
   "language": "python",
   "name": "python3"
  },
  "language_info": {
   "codemirror_mode": {
    "name": "ipython",
    "version": 3
   },
   "file_extension": ".py",
   "mimetype": "text/x-python",
   "name": "python",
   "nbconvert_exporter": "python",
   "pygments_lexer": "ipython3",
   "version": "3.7.1"
  }
 },
 "nbformat": 4,
 "nbformat_minor": 2
}
